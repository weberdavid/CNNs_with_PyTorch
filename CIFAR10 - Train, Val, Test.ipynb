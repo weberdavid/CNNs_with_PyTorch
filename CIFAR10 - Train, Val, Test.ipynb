{
 "cells": [
  {
   "cell_type": "markdown",
   "metadata": {},
   "source": [
    "## Introduce a Validation Set to the Training Loop "
   ]
  },
  {
   "cell_type": "code",
   "execution_count": 177,
   "metadata": {},
   "outputs": [],
   "source": [
    "#import libraries\n",
    "import torch\n",
    "import torchvision\n",
    "import torchvision.transforms as transforms\n",
    "import torch.optim as optim\n",
    "import torch.nn.functional as F\n",
    "import torch.nn as nn\n",
    "from torch.utils.data import DataLoader\n",
    "\n",
    "import matplotlib.pyplot as plt"
   ]
  },
  {
   "cell_type": "markdown",
   "metadata": {},
   "source": [
    "#### Download and Prepare CIFAR10 Dataset"
   ]
  },
  {
   "cell_type": "code",
   "execution_count": 178,
   "metadata": {},
   "outputs": [
    {
     "name": "stdout",
     "output_type": "stream",
     "text": [
      "Files already downloaded and verified\n",
      "Files already downloaded and verified\n"
     ]
    }
   ],
   "source": [
    "transform = transforms.Compose([\n",
    "    transforms.ToTensor(),\n",
    "    transforms.Normalize((0.5, 0.5, 0.5), (0.5, 0.5, 0.5)) #change for true values\n",
    "])\n",
    "\n",
    "dataset = torchvision.datasets.CIFAR10(root = './data/CIFAR10'\n",
    "                                       , train = True\n",
    "                                       , download = True\n",
    "                                       , transform = transform)\n",
    "\n",
    "trainset, validset = torch.utils.data.random_split(dataset, [40000, 10000])\n",
    "\n",
    "trainloader = DataLoader(trainset\n",
    "                        , batch_size = 32\n",
    "                        , shuffle = True\n",
    "                        , num_workers = 1)\n",
    "\n",
    "validloader = DataLoader(validset\n",
    "                        , batch_size = 32\n",
    "                        , shuffle = True\n",
    "                        , num_workers = 1)\n",
    "\n",
    "\n",
    "\n",
    "testset = torchvision.datasets.CIFAR10(root = './data/CIFAR10'\n",
    "                                      , train = False\n",
    "                                      , download = True\n",
    "                                      , transform = transform)\n",
    "testloader = DataLoader(testset\n",
    "                       , batch_size = 32\n",
    "                       , shuffle = False\n",
    "                       , num_workers = 1)"
   ]
  },
  {
   "cell_type": "code",
   "execution_count": 179,
   "metadata": {},
   "outputs": [
    {
     "data": {
      "text/plain": [
       "['airplane',\n",
       " 'automobile',\n",
       " 'bird',\n",
       " 'cat',\n",
       " 'deer',\n",
       " 'dog',\n",
       " 'frog',\n",
       " 'horse',\n",
       " 'ship',\n",
       " 'truck']"
      ]
     },
     "execution_count": 179,
     "metadata": {},
     "output_type": "execute_result"
    }
   ],
   "source": [
    "#CIFAR10 classes\n",
    "dataset.classes"
   ]
  },
  {
   "cell_type": "code",
   "execution_count": 180,
   "metadata": {},
   "outputs": [
    {
     "data": {
      "text/plain": [
       "50000"
      ]
     },
     "execution_count": 180,
     "metadata": {},
     "output_type": "execute_result"
    }
   ],
   "source": [
    "len(dataset)"
   ]
  },
  {
   "cell_type": "code",
   "execution_count": 181,
   "metadata": {},
   "outputs": [
    {
     "data": {
      "text/plain": [
       "(40000, 10000)"
      ]
     },
     "execution_count": 181,
     "metadata": {},
     "output_type": "execute_result"
    }
   ],
   "source": [
    "len(trainset), len(validset)"
   ]
  },
  {
   "cell_type": "code",
   "execution_count": 182,
   "metadata": {},
   "outputs": [
    {
     "data": {
      "text/plain": [
       "torch.Size([3, 32, 32])"
      ]
     },
     "execution_count": 182,
     "metadata": {},
     "output_type": "execute_result"
    }
   ],
   "source": [
    "#Load one image\n",
    "sample = next(iter(trainset))\n",
    "img, lbl = sample\n",
    "img.shape"
   ]
  },
  {
   "cell_type": "code",
   "execution_count": null,
   "metadata": {},
   "outputs": [],
   "source": []
  },
  {
   "cell_type": "markdown",
   "metadata": {},
   "source": [
    "#### Defining our CNN"
   ]
  },
  {
   "cell_type": "code",
   "execution_count": 183,
   "metadata": {},
   "outputs": [],
   "source": [
    "class CNN(nn.Module):\n",
    "    def __init__(self):\n",
    "        super(CNN, self).__init__()\n",
    "        self.conv1 = nn.Conv2d(3, 6, 3)\n",
    "        self.conv2 = nn.Conv2d(6, 12, 3)\n",
    "        self.conv3 = nn.Conv2d(12, 24, 3)\n",
    "        \n",
    "        self.fc1 = nn.Linear(24*4*4, 200)\n",
    "        self.fc2 = nn.Linear(200, 120)\n",
    "        self.fc3 = nn.Linear(120, 60)\n",
    "        self.out = nn.Linear(60, 10)\n",
    "    \n",
    "    def forward(self, t):\n",
    "        #print('conv1')\n",
    "        t = self.conv1(t)\n",
    "        t = F.relu(t)\n",
    "        #print(t.shape)\n",
    "        t = F.max_pool2d(t, kernel_size = 2, stride = 2)\n",
    "        #print(t.shape)\n",
    "        \n",
    "        #print('conv2')\n",
    "        t = self.conv2(t)\n",
    "        t = F.relu(t)\n",
    "        #print(t.shape)\n",
    "        t = F.max_pool2d(t, kernel_size = 2, stride = 2)\n",
    "        #print(t.shape)\n",
    "        \n",
    "        #print('conv3')\n",
    "        t = self.conv3(t)\n",
    "        t = F.relu(t)\n",
    "        #print(t.shape)\n",
    "        #t = F.max_pool2d(t, kernel_size = 2, stride = 2)\n",
    "        #print(t.shape)\n",
    "        \n",
    "        \n",
    "        t = t.reshape(-1,24*4*4)\n",
    "        #print('fc1 reshape:', t.shape)\n",
    "        t = self.fc1(t)\n",
    "        t = F.relu(t)\n",
    "        \n",
    "        t = self.fc2(t)\n",
    "        t = F.relu(t)\n",
    "        \n",
    "        t = self.fc3(t)\n",
    "        t = F.relu(t)\n",
    "        \n",
    "        t = self.out(t)\n",
    "        #softmax?\n",
    "        \n",
    "        return t"
   ]
  },
  {
   "cell_type": "code",
   "execution_count": 184,
   "metadata": {},
   "outputs": [],
   "source": [
    "#Initiating new CNN\n",
    "cnn1 = CNN()"
   ]
  },
  {
   "cell_type": "code",
   "execution_count": 185,
   "metadata": {},
   "outputs": [],
   "source": [
    "#Testing wheter img moves through, controlling convolutions through print statements\n",
    "pred = cnn1(img.unsqueeze(0))"
   ]
  },
  {
   "cell_type": "markdown",
   "metadata": {},
   "source": [
    "#### Optimizer and Loss"
   ]
  },
  {
   "cell_type": "code",
   "execution_count": 198,
   "metadata": {},
   "outputs": [],
   "source": [
    "cnn = CNN()"
   ]
  },
  {
   "cell_type": "code",
   "execution_count": 199,
   "metadata": {},
   "outputs": [],
   "source": [
    "optimizer = optim.SGD(cnn.parameters(), lr = 0.01)\n",
    "\n",
    "criterion = nn.CrossEntropyLoss()"
   ]
  },
  {
   "cell_type": "code",
   "execution_count": null,
   "metadata": {},
   "outputs": [],
   "source": []
  },
  {
   "cell_type": "markdown",
   "metadata": {},
   "source": [
    "#### Defining Training and Validation Functions"
   ]
  },
  {
   "cell_type": "code",
   "execution_count": 200,
   "metadata": {},
   "outputs": [],
   "source": [
    "def validate(model, val_dataloader):\n",
    "    model.eval()\n",
    "    val_running_loss = 0\n",
    "    val_running_corr = 0\n",
    "    for batch in val_dataloader:\n",
    "        images, labels = batch\n",
    "        preds = model(images)\n",
    "        loss = criterion(preds, labels)\n",
    "        \n",
    "        val_running_loss += loss.item()\n",
    "        _, predsmax = torch.max(preds.data, 1)\n",
    "        val_running_corr += (predsmax == labels).sum().item()\n",
    "        \n",
    "    val_loss = val_running_loss / len(val_dataloader.dataset)\n",
    "    val_accuracy = 100 * val_running_corr / len(val_dataloader.dataset)\n",
    "    \n",
    "    print(f'Valid Loss: {val_loss:.4f}, Valid Acc %: {val_accuracy:.2f}')\n",
    "    \n",
    "    return val_loss, val_accuracy"
   ]
  },
  {
   "cell_type": "code",
   "execution_count": 201,
   "metadata": {},
   "outputs": [],
   "source": [
    "def train(model, train_dataloader):\n",
    "    model.train()\n",
    "    train_running_loss = 0\n",
    "    train_running_corr = 0\n",
    "    for batch in train_dataloader:\n",
    "        images, labels = batch\n",
    "        optimizer.zero_grad()\n",
    "        preds = model(images)\n",
    "        loss = criterion(preds, labels)\n",
    "        \n",
    "        train_running_loss += loss.item()\n",
    "        _, predsmax = torch.max(preds.data, 1)\n",
    "        train_running_corr += (predsmax == labels).sum().item()\n",
    "        \n",
    "        loss.backward()\n",
    "        optimizer.step()\n",
    "        \n",
    "        \n",
    "    train_loss = train_running_loss / len(train_dataloader.dataset)\n",
    "    train_accuracy = 100 * train_running_corr / len(train_dataloader.dataset)\n",
    "    \n",
    "    print(f'Train Loss: {train_loss:.4f}, Train Acc %: {train_accuracy:.2f}')\n",
    "    \n",
    "    return train_loss, train_accuracy"
   ]
  },
  {
   "cell_type": "code",
   "execution_count": null,
   "metadata": {},
   "outputs": [],
   "source": []
  },
  {
   "cell_type": "markdown",
   "metadata": {},
   "source": [
    "#### Trainings Loop"
   ]
  },
  {
   "cell_type": "code",
   "execution_count": 202,
   "metadata": {},
   "outputs": [
    {
     "name": "stdout",
     "output_type": "stream",
     "text": [
      "Epoch  0\n",
      "Train Loss: 0.0720, Train Acc %: 9.99\n",
      "Valid Loss: 0.0721, Valid Acc %: 10.01\n",
      "Epoch  1\n",
      "Train Loss: 0.0720, Train Acc %: 10.12\n",
      "Valid Loss: 0.0721, Valid Acc %: 13.49\n",
      "Epoch  2\n",
      "Train Loss: 0.0719, Train Acc %: 10.82\n",
      "Valid Loss: 0.0720, Valid Acc %: 10.03\n",
      "Epoch  3\n",
      "Train Loss: 0.0719, Train Acc %: 13.16\n",
      "Valid Loss: 0.0720, Valid Acc %: 11.25\n",
      "Epoch  4\n",
      "Train Loss: 0.0717, Train Acc %: 15.72\n",
      "Valid Loss: 0.0712, Valid Acc %: 19.03\n",
      "Epoch  5\n",
      "Train Loss: 0.0667, Train Acc %: 19.82\n",
      "Valid Loss: 0.0639, Valid Acc %: 22.41\n",
      "Epoch  6\n",
      "Train Loss: 0.0609, Train Acc %: 27.11\n",
      "Valid Loss: 0.0588, Valid Acc %: 30.14\n",
      "Epoch  7\n",
      "Train Loss: 0.0570, Train Acc %: 32.21\n",
      "Valid Loss: 0.0561, Valid Acc %: 34.26\n",
      "Epoch  8\n",
      "Train Loss: 0.0542, Train Acc %: 35.99\n",
      "Valid Loss: 0.0527, Valid Acc %: 37.42\n",
      "Epoch  9\n",
      "Train Loss: 0.0518, Train Acc %: 39.05\n",
      "Valid Loss: 0.0509, Valid Acc %: 40.51\n"
     ]
    }
   ],
   "source": [
    "train_loss, train_accuracy = [], []\n",
    "val_loss, val_accuracy = [], []\n",
    "\n",
    "for epoch in range(10):\n",
    "    print('Epoch ', epoch)\n",
    "    train_epoch_loss, train_epoch_acc = train(cnn, trainloader)\n",
    "    val_epoch_loss, val_epoch_acc = validate(cnn, validloader)\n",
    "    \n",
    "    train_loss.append(train_epoch_loss)\n",
    "    train_accuracy.append(train_epoch_acc)\n",
    "    val_loss.append(val_epoch_loss)\n",
    "    val_accuracy.append(val_epoch_acc)"
   ]
  },
  {
   "cell_type": "code",
   "execution_count": null,
   "metadata": {},
   "outputs": [],
   "source": []
  },
  {
   "cell_type": "markdown",
   "metadata": {},
   "source": [
    "#### Apply Test Set"
   ]
  },
  {
   "cell_type": "code",
   "execution_count": 203,
   "metadata": {},
   "outputs": [],
   "source": [
    "def test(model, test_loader):\n",
    "    test_correct = 0\n",
    "    \n",
    "    with torch.no_grad():\n",
    "        model.eval()\n",
    "        for batch in test_loader:\n",
    "            images, labels = batch\n",
    "            preds = model(images)\n",
    "        \n",
    "            test_correct += preds.argmax(dim = 1).eq(labels).sum().item()\n",
    "    \n",
    "    test_accuracy = 100 * test_correct / len(test_loader.dataset)    \n",
    "    print('Accuracy on TestSet in %:', test_accuracy)\n",
    "    \n",
    "    #return test_correct, test_accuracy"
   ]
  },
  {
   "cell_type": "code",
   "execution_count": 206,
   "metadata": {},
   "outputs": [
    {
     "name": "stdout",
     "output_type": "stream",
     "text": [
      "Accuracy on TestSet in %: 40.33\n"
     ]
    }
   ],
   "source": [
    "test(cnn, testloader)"
   ]
  },
  {
   "cell_type": "markdown",
   "metadata": {},
   "source": [
    "#### Plot Train and Validation Set Performance of the Model"
   ]
  },
  {
   "cell_type": "code",
   "execution_count": 207,
   "metadata": {},
   "outputs": [
    {
     "data": {
      "image/png": "[encoded data removed]",
      "text/plain": [
       "<Figure size 432x288 with 1 Axes>"
      ]
     },
     "metadata": {
      "needs_background": "light"
     },
     "output_type": "display_data"
    }
   ],
   "source": [
    "plt.plot(train_accuracy, color = 'green', label = 'Train Accuracy')\n",
    "plt.plot(val_accuracy, color = 'blue', label = 'Validation Accuracy')\n",
    "plt.legend()\n",
    "plt.show()"
   ]
  },
  {
   "cell_type": "code",
   "execution_count": 208,
   "metadata": {},
   "outputs": [
    {
     "data": {
      "image/png": "[encoded data removed]",
      "text/plain": [
       "<Figure size 432x288 with 1 Axes>"
      ]
     },
     "metadata": {
      "needs_background": "light"
     },
     "output_type": "display_data"
    }
   ],
   "source": [
    "plt.plot(train_loss, color = 'red', label = 'Train Accuracy')\n",
    "plt.plot(val_loss, color = 'yellow', label = 'Validation Accuracy')\n",
    "plt.legend()\n",
    "plt.show()"
   ]
  },
  {
   "cell_type": "markdown",
   "metadata": {},
   "source": [
    "#### Save the network"
   ]
  },
  {
   "cell_type": "code",
   "execution_count": 213,
   "metadata": {},
   "outputs": [],
   "source": [
    "#saving whole network\n",
    "path = './models/cifar10_selfbuild.pth'\n",
    "torch.save(cnn, path)"
   ]
  },
  {
   "cell_type": "code",
   "execution_count": 214,
   "metadata": {},
   "outputs": [],
   "source": [
    "#save the params\n",
    "path = './models/cifar10_selfbuild_params.pth'\n",
    "torch.save(cnn.state_dict(), path)"
   ]
  },
  {
   "cell_type": "code",
   "execution_count": null,
   "metadata": {},
   "outputs": [],
   "source": []
  }
 ],
 "metadata": {
  "kernelspec": {
   "display_name": "ipy_base",
   "language": "python",
   "name": "ipy_base"
  },
  "language_info": {
   "codemirror_mode": {
    "name": "ipython",
    "version": 3
   },
   "file_extension": ".py",
   "mimetype": "text/x-python",
   "name": "python",
   "nbconvert_exporter": "python",
   "pygments_lexer": "ipython3",
   "version": "3.7.7"
  }
 },
 "nbformat": 4,
 "nbformat_minor": 4
}
