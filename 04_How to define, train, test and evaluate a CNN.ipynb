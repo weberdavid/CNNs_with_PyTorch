{
 "cells": [
  {
   "cell_type": "markdown",
   "metadata": {},
   "source": [
    "## PyTorch Tutorial & DeepLizard CNN Series on YouTube"
   ]
  },
  {
   "cell_type": "code",
   "execution_count": 1,
   "metadata": {},
   "outputs": [],
   "source": [
    "from __future__ import print_function\n",
    "import torch"
   ]
  },
  {
   "cell_type": "markdown",
   "metadata": {},
   "source": [
    "#### Uninitialized Matrix, is declared but does not contain definite known values"
   ]
  },
  {
   "cell_type": "code",
   "execution_count": 2,
   "metadata": {},
   "outputs": [
    {
     "name": "stdout",
     "output_type": "stream",
     "text": [
      "tensor([[ 0.0000e+00,  0.0000e+00,  0.0000e+00],\n",
      "        [ 0.0000e+00,  0.0000e+00,  1.1704e-41],\n",
      "        [ 0.0000e+00,  2.2369e+08,  0.0000e+00],\n",
      "        [ 0.0000e+00,  0.0000e+00,  0.0000e+00],\n",
      "        [        nan,         nan, -4.5862e+21]])\n"
     ]
    }
   ],
   "source": [
    "x = torch.empty(5, 3)\n",
    "print(x)"
   ]
  },
  {
   "cell_type": "markdown",
   "metadata": {},
   "source": [
    "#### Randomly initialized matrix"
   ]
  },
  {
   "cell_type": "code",
   "execution_count": 3,
   "metadata": {},
   "outputs": [
    {
     "name": "stdout",
     "output_type": "stream",
     "text": [
      "tensor([[0.7283, 0.1690, 0.4126],\n",
      "        [0.3335, 0.5632, 0.1026],\n",
      "        [0.0210, 0.8484, 0.3009],\n",
      "        [0.8955, 0.4886, 0.2778],\n",
      "        [0.5867, 0.2636, 0.2787]])\n"
     ]
    }
   ],
   "source": [
    "x = torch.rand(5,3)\n",
    "print(x)"
   ]
  },
  {
   "cell_type": "code",
   "execution_count": 49,
   "metadata": {},
   "outputs": [
    {
     "data": {
      "text/plain": [
       "torch.Size([5, 2])"
      ]
     },
     "execution_count": 49,
     "metadata": {},
     "output_type": "execute_result"
    }
   ],
   "source": [
    "x.shape"
   ]
  },
  {
   "cell_type": "code",
   "execution_count": 50,
   "metadata": {},
   "outputs": [
    {
     "data": {
      "text/plain": [
       "torch.Size([5, 2])"
      ]
     },
     "execution_count": 50,
     "metadata": {},
     "output_type": "execute_result"
    }
   ],
   "source": [
    "x.size()"
   ]
  },
  {
   "cell_type": "markdown",
   "metadata": {},
   "source": [
    "#### Construct a matrix with zeros and data type long"
   ]
  },
  {
   "cell_type": "code",
   "execution_count": 13,
   "metadata": {},
   "outputs": [
    {
     "name": "stdout",
     "output_type": "stream",
     "text": [
      "tensor([[0, 0, 0],\n",
      "        [0, 0, 0],\n",
      "        [0, 0, 0],\n",
      "        [0, 0, 0],\n",
      "        [0, 0, 0]])\n"
     ]
    }
   ],
   "source": [
    "x = torch.zeros(5, 3, dtype = torch.long)\n",
    "print(x)"
   ]
  },
  {
   "cell_type": "markdown",
   "metadata": {},
   "source": [
    "#### Construct a tensor directly from data"
   ]
  },
  {
   "cell_type": "code",
   "execution_count": 14,
   "metadata": {},
   "outputs": [
    {
     "name": "stdout",
     "output_type": "stream",
     "text": [
      "tensor([5.5000, 3.0000])\n"
     ]
    }
   ],
   "source": [
    "x = torch.tensor([5.5, 3])\n",
    "print(x)"
   ]
  },
  {
   "cell_type": "markdown",
   "metadata": {},
   "source": [
    "#### Create tensor based on existing one, these methods reuse properties of the input sensor like the dtype"
   ]
  },
  {
   "cell_type": "code",
   "execution_count": 46,
   "metadata": {},
   "outputs": [
    {
     "name": "stdout",
     "output_type": "stream",
     "text": [
      "tensor([[0., 0.],\n",
      "        [0., 0.],\n",
      "        [0., 0.],\n",
      "        [0., 0.],\n",
      "        [0., 0.]], dtype=torch.float64)\n"
     ]
    }
   ],
   "source": [
    "x = x.new_zeros(5, 2, dtype = torch.float64) #new_* (ones, zeros, ...) take in the size\n",
    "print(x)"
   ]
  },
  {
   "cell_type": "code",
   "execution_count": 51,
   "metadata": {},
   "outputs": [
    {
     "name": "stdout",
     "output_type": "stream",
     "text": [
      "tensor([[ 1.5782,  1.7321],\n",
      "        [-0.5274, -0.6841],\n",
      "        [ 0.0571,  0.0442],\n",
      "        [-0.7754,  0.8682],\n",
      "        [-0.5045, -0.5877]], dtype=torch.float64)\n"
     ]
    }
   ],
   "source": [
    "x = torch.randn_like(x, dtype = torch.double) #dtype is overriden \n",
    "print(x)"
   ]
  },
  {
   "cell_type": "markdown",
   "metadata": {},
   "source": [
    "### Operations"
   ]
  },
  {
   "cell_type": "markdown",
   "metadata": {},
   "source": [
    "#### Addition can be done in two ways:"
   ]
  },
  {
   "cell_type": "code",
   "execution_count": 63,
   "metadata": {},
   "outputs": [
    {
     "name": "stdout",
     "output_type": "stream",
     "text": [
      "tensor([[ 2.0250,  2.5345],\n",
      "        [-0.3672, -0.3670],\n",
      "        [ 0.9669,  0.3353],\n",
      "        [-0.3124,  1.4227],\n",
      "        [-0.2825, -0.3679]], dtype=torch.float64)\n"
     ]
    }
   ],
   "source": [
    "y = torch.rand(5, 2) #first syntax\n",
    "print(x + y)"
   ]
  },
  {
   "cell_type": "code",
   "execution_count": 54,
   "metadata": {},
   "outputs": [
    {
     "data": {
      "text/plain": [
       "tensor([[ 2.4350e+00,  2.6342e+00],\n",
       "        [-3.8693e-01, -8.4006e-02],\n",
       "        [ 9.8195e-02,  7.6191e-01],\n",
       "        [ 3.8493e-02,  9.8922e-01],\n",
       "        [ 5.5112e-05, -3.2012e-01]], dtype=torch.float64)"
      ]
     },
     "execution_count": 54,
     "metadata": {},
     "output_type": "execute_result"
    }
   ],
   "source": [
    "torch.add(x, y) #second syntax"
   ]
  },
  {
   "cell_type": "code",
   "execution_count": 58,
   "metadata": {},
   "outputs": [
    {
     "name": "stdout",
     "output_type": "stream",
     "text": [
      "tensor([[ 2.4350e+00,  2.6342e+00],\n",
      "        [-3.8693e-01, -8.4006e-02],\n",
      "        [ 9.8195e-02,  7.6191e-01],\n",
      "        [ 3.8493e-02,  9.8922e-01],\n",
      "        [ 5.5112e-05, -3.2012e-01]])\n"
     ]
    }
   ],
   "source": [
    "#providing an output tensor is also possible\n",
    "xy = torch.zeros(5, 2)\n",
    "torch.add(x, y, out = xy)\n",
    "print(xy)"
   ]
  },
  {
   "cell_type": "code",
   "execution_count": 66,
   "metadata": {},
   "outputs": [
    {
     "name": "stdout",
     "output_type": "stream",
     "text": [
      "tensor([[-4.6149e-08,  1.7436e-08],\n",
      "        [ 8.1499e-09, -2.4920e-08],\n",
      "        [-1.6608e-09, -8.6048e-10],\n",
      "        [-2.8191e-08,  7.3443e-09],\n",
      "        [ 2.2290e-08,  4.2212e-09]])\n"
     ]
    }
   ],
   "source": [
    "#...or you can do it in-line: every operation then ends with a '_'\n",
    "y.add_(x) #.t_() 'transform', .copy_(x) 'copys x values'\n",
    "print(y)"
   ]
  },
  {
   "cell_type": "markdown",
   "metadata": {},
   "source": [
    "#### NumPy like Indexing"
   ]
  },
  {
   "cell_type": "code",
   "execution_count": 69,
   "metadata": {},
   "outputs": [
    {
     "name": "stdout",
     "output_type": "stream",
     "text": [
      "tensor([ 1.7321, -0.6841,  0.0442,  0.8682, -0.5877], dtype=torch.float64)\n"
     ]
    }
   ],
   "source": [
    "print(x[:, 1])"
   ]
  },
  {
   "cell_type": "markdown",
   "metadata": {},
   "source": [
    "### Resizing / -shaping Tensors"
   ]
  },
  {
   "cell_type": "code",
   "execution_count": 2,
   "metadata": {},
   "outputs": [
    {
     "name": "stdout",
     "output_type": "stream",
     "text": [
      "tensor([[0.8431, 0.5812, 0.3966, 0.3668, 0.7176],\n",
      "        [0.6199, 0.3733, 0.5300, 0.7550, 0.4253],\n",
      "        [0.5757, 0.9736, 0.5893, 0.9198, 0.7944],\n",
      "        [0.2366, 0.0377, 0.3292, 0.3925, 0.8500],\n",
      "        [0.1079, 0.5784, 0.4094, 0.1009, 0.9620]]) tensor([0.8431, 0.5812, 0.3966, 0.3668, 0.7176, 0.6199, 0.3733, 0.5300, 0.7550,\n",
      "        0.4253, 0.5757, 0.9736, 0.5893, 0.9198, 0.7944, 0.2366, 0.0377, 0.3292,\n",
      "        0.3925, 0.8500, 0.1079, 0.5784, 0.4094, 0.1009, 0.9620]) tensor([[0.8431, 0.5812, 0.3966, 0.3668, 0.7176],\n",
      "        [0.6199, 0.3733, 0.5300, 0.7550, 0.4253],\n",
      "        [0.5757, 0.9736, 0.5893, 0.9198, 0.7944],\n",
      "        [0.2366, 0.0377, 0.3292, 0.3925, 0.8500],\n",
      "        [0.1079, 0.5784, 0.4094, 0.1009, 0.9620]])\n",
      "torch.Size([5, 5]) torch.Size([25]) torch.Size([5, 5])\n"
     ]
    }
   ],
   "source": [
    "x = torch.rand(5,5)\n",
    "y = x.view(25)\n",
    "z = x.view(-1, 5) #-1 means to infer (ableiten) from other dimensions, shape depends on second parameter\n",
    "print(x, y, z)\n",
    "print(x.shape, y.shape, z.shape)"
   ]
  },
  {
   "cell_type": "markdown",
   "metadata": {},
   "source": [
    "#### use .item() to select tensor values as python number"
   ]
  },
  {
   "cell_type": "code",
   "execution_count": 84,
   "metadata": {},
   "outputs": [
    {
     "data": {
      "text/plain": [
       "0.8376832008361816"
      ]
     },
     "execution_count": 84,
     "metadata": {},
     "output_type": "execute_result"
    }
   ],
   "source": [
    "x[1, 3].item()"
   ]
  },
  {
   "cell_type": "code",
   "execution_count": 87,
   "metadata": {},
   "outputs": [
    {
     "data": {
      "text/plain": [
       "tensor(0.8377)"
      ]
     },
     "execution_count": 87,
     "metadata": {},
     "output_type": "execute_result"
    }
   ],
   "source": [
    "#... instead of\n",
    "x[1, 3] #or x[1][3]"
   ]
  },
  {
   "cell_type": "markdown",
   "metadata": {},
   "source": [
    "### NumPy Array <> Tensor"
   ]
  },
  {
   "cell_type": "markdown",
   "metadata": {},
   "source": [
    "#### a NumPy array and a tensor share the memory location, meaning that a change of one results in a change of the other"
   ]
  },
  {
   "cell_type": "code",
   "execution_count": 89,
   "metadata": {},
   "outputs": [
    {
     "name": "stdout",
     "output_type": "stream",
     "text": [
      "tensor([[0.5008, 0.0641, 0.6698, 0.1802],\n",
      "        [0.6955, 0.1084, 0.2223, 0.1705],\n",
      "        [0.6962, 0.1849, 0.2312, 0.5964]])\n"
     ]
    }
   ],
   "source": [
    "a = torch.rand(3, 4)\n",
    "print(a)"
   ]
  },
  {
   "cell_type": "code",
   "execution_count": 91,
   "metadata": {},
   "outputs": [
    {
     "name": "stdout",
     "output_type": "stream",
     "text": [
      "[[0.500763   0.06406945 0.66979754 0.18023556]\n",
      " [0.69545645 0.10835159 0.22226119 0.17049241]\n",
      " [0.6962485  0.18492407 0.23120284 0.5963593 ]]\n"
     ]
    }
   ],
   "source": [
    "b = a.numpy()\n",
    "print(b)"
   ]
  },
  {
   "cell_type": "code",
   "execution_count": 92,
   "metadata": {},
   "outputs": [
    {
     "name": "stdout",
     "output_type": "stream",
     "text": [
      "tensor([[2.5008, 2.0641, 2.6698, 2.1802],\n",
      "        [2.6955, 2.1084, 2.2223, 2.1705],\n",
      "        [2.6962, 2.1849, 2.2312, 2.5964]])\n"
     ]
    }
   ],
   "source": [
    "a = a.add_(2)\n",
    "print(a)"
   ]
  },
  {
   "cell_type": "code",
   "execution_count": 94,
   "metadata": {},
   "outputs": [
    {
     "name": "stdout",
     "output_type": "stream",
     "text": [
      "[[2.500763  2.0640695 2.6697974 2.1802356]\n",
      " [2.6954565 2.1083517 2.2222612 2.1704924]\n",
      " [2.6962485 2.1849241 2.2312028 2.5963593]]\n"
     ]
    }
   ],
   "source": [
    "print(b) #numpy array changed according to \"a\" computation"
   ]
  },
  {
   "cell_type": "markdown",
   "metadata": {},
   "source": [
    "#### ...this works the other way around as well (from np to torch)"
   ]
  },
  {
   "cell_type": "code",
   "execution_count": 95,
   "metadata": {},
   "outputs": [],
   "source": [
    "import numpy as np"
   ]
  },
  {
   "cell_type": "code",
   "execution_count": 107,
   "metadata": {},
   "outputs": [
    {
     "name": "stdout",
     "output_type": "stream",
     "text": [
      "[1. 1. 1. 1.] \n",
      " tensor([1., 1., 1., 1.], dtype=torch.float64)\n"
     ]
    }
   ],
   "source": [
    "a = np.ones(4)\n",
    "b = torch.from_numpy(a)\n",
    "print(a, '\\n', b)"
   ]
  },
  {
   "cell_type": "code",
   "execution_count": 108,
   "metadata": {},
   "outputs": [
    {
     "name": "stdout",
     "output_type": "stream",
     "text": [
      "[3. 3. 3. 3.] \n",
      " tensor([3., 3., 3., 3.], dtype=torch.float64)\n"
     ]
    }
   ],
   "source": [
    "np.add(a, 2, out = a)\n",
    "print(a, '\\n', b)"
   ]
  },
  {
   "cell_type": "markdown",
   "metadata": {},
   "source": [
    "####  bringing Tensors to CUDA with .to()"
   ]
  },
  {
   "cell_type": "code",
   "execution_count": 109,
   "metadata": {},
   "outputs": [],
   "source": [
    "#does not work for me, no CUDA\n",
    "if torch.cuda.is_available():\n",
    "    device = torch.device(\"cuda\")\n",
    "    y = torch.ones_like(x, device = device) #one way\n",
    "    x = x.to(device) #second possibility\n",
    "    z = x+y\n",
    "    z.to(\"cpu\", torch.double) #.to() can also override dtype"
   ]
  },
  {
   "cell_type": "markdown",
   "metadata": {},
   "source": [
    "## Autograd: Automatic Differentiation"
   ]
  },
  {
   "cell_type": "markdown",
   "metadata": {},
   "source": [
    "#### = automatic differentiation for all operations on Tensors."
   ]
  },
  {
   "cell_type": "code",
   "execution_count": 138,
   "metadata": {},
   "outputs": [
    {
     "name": "stdout",
     "output_type": "stream",
     "text": [
      "tensor([[1., 1.],\n",
      "        [1., 1.]], requires_grad=True)\n"
     ]
    }
   ],
   "source": [
    "#creating a tensor and setting requires_grad to true to track computation\n",
    "x = torch.ones(2, 2, requires_grad = True)\n",
    "print(x)"
   ]
  },
  {
   "cell_type": "code",
   "execution_count": 139,
   "metadata": {},
   "outputs": [
    {
     "name": "stdout",
     "output_type": "stream",
     "text": [
      "tensor([[3., 3.],\n",
      "        [3., 3.]], grad_fn=<AddBackward0>)\n",
      "<AddBackward0 object at 0x7ff16e77b210>\n"
     ]
    }
   ],
   "source": [
    "y = x + 2\n",
    "print(y)\n",
    "print(y.grad_fn)"
   ]
  },
  {
   "cell_type": "code",
   "execution_count": 140,
   "metadata": {},
   "outputs": [
    {
     "name": "stdout",
     "output_type": "stream",
     "text": [
      "tensor([[27., 27.],\n",
      "        [27., 27.]], grad_fn=<MulBackward0>)\n",
      "tensor(27., grad_fn=<MeanBackward0>)\n"
     ]
    }
   ],
   "source": [
    "z = y * y * 3\n",
    "out = z.mean()\n",
    "print(z)\n",
    "print(out)"
   ]
  },
  {
   "cell_type": "code",
   "execution_count": 141,
   "metadata": {},
   "outputs": [],
   "source": [
    "out.backward() # no need to give a tensor within backward, because out contains a single scalar"
   ]
  },
  {
   "cell_type": "code",
   "execution_count": 142,
   "metadata": {},
   "outputs": [
    {
     "name": "stdout",
     "output_type": "stream",
     "text": [
      "tensor([[4.5000, 4.5000],\n",
      "        [4.5000, 4.5000]])\n"
     ]
    }
   ],
   "source": [
    "print(x.grad)"
   ]
  },
  {
   "cell_type": "markdown",
   "metadata": {},
   "source": [
    "#### vector-Jacobian product"
   ]
  },
  {
   "cell_type": "code",
   "execution_count": 164,
   "metadata": {},
   "outputs": [
    {
     "name": "stdout",
     "output_type": "stream",
     "text": [
      "tensor([ 65.3840, 581.7717, 856.9518], grad_fn=<MulBackward0>)\n"
     ]
    }
   ],
   "source": [
    "x = torch.rand(3, requires_grad = True)\n",
    "y = x * 2\n",
    "\n",
    "while y.data.norm() < 1000:\n",
    "    y = y * 2\n",
    "\n",
    "print(y)"
   ]
  },
  {
   "cell_type": "code",
   "execution_count": 165,
   "metadata": {},
   "outputs": [],
   "source": [
    "y.backward(torch.rand(3, dtype = torch.float))"
   ]
  },
  {
   "cell_type": "code",
   "execution_count": 166,
   "metadata": {},
   "outputs": [
    {
     "data": {
      "text/plain": [
       "tensor([915.3042, 727.2310, 131.0215])"
      ]
     },
     "execution_count": 166,
     "metadata": {},
     "output_type": "execute_result"
    }
   ],
   "source": [
    "x.grad"
   ]
  },
  {
   "cell_type": "code",
   "execution_count": 167,
   "metadata": {},
   "outputs": [
    {
     "name": "stdout",
     "output_type": "stream",
     "text": [
      "False\n"
     ]
    }
   ],
   "source": [
    "#stop autograd on tracking history on tensors\n",
    "with torch.no_grad():\n",
    "    print((x**2).requires_grad)"
   ]
  },
  {
   "cell_type": "code",
   "execution_count": 168,
   "metadata": {},
   "outputs": [],
   "source": [
    "#.detach() makes new Tensor that does not require grad\n",
    "r = x.detach()"
   ]
  },
  {
   "cell_type": "markdown",
   "metadata": {},
   "source": [
    "## Define a Network"
   ]
  },
  {
   "cell_type": "code",
   "execution_count": 226,
   "metadata": {},
   "outputs": [],
   "source": [
    "import torch.nn as nn\n",
    "import torch.nn.functional as F\n",
    "import torchvision\n",
    "import torchvision.transforms as transforms"
   ]
  },
  {
   "cell_type": "code",
   "execution_count": 176,
   "metadata": {},
   "outputs": [],
   "source": [
    "class Network(nn.Module): #required\n",
    "    def __init__(self):\n",
    "        super(Network, self).__init__() #extend the nn Module from PyTorch (inheritance)\n",
    "        #in_channels= depends on number of colorspace; out_channels=feature maps, number of filters;  kernel_size=filter size\n",
    "        #out_channels are often increased among the layers\n",
    "        #those are all hyperparameters, weights are learnable parameters\n",
    "        #optional: stride=(), tells how much the filter should move right and down\n",
    "        self.conv1 = nn.Conv2d(in_channels = 1, out_channels = 6, kernel_size = 5) #kernel = filter, has height and width\n",
    "        self.conv2 = nn.Conv2d(6, 12, 5)\n",
    "        \n",
    "        #when switching from conv to fc layers, tensor must be flattened, \n",
    "        \n",
    "        #in_features = equals out_features from previous layer;\n",
    "        #out_features = size of output tensor, how many nodes we want in our layer\n",
    "        #out_features are often decreased among the layers, until number of output classes is reached\n",
    "        #bias standardly true\n",
    "        self.fc1 = nn.Linear(in_features = 12*4*4, out_features = 120) #linear, dense layers (fully connected = fc)\n",
    "        self.fc2 = nn.Linear(120, 60)\n",
    "        self.out = nn.Linear(60, 10)\n",
    "        \n",
    "    def forward(self, t): #implement the forward pass, takes tensor as arg\n",
    "        # (1) input layer, normally left away\n",
    "        t = t\n",
    "        \n",
    "        # (2) hidden conv layer\n",
    "        t = self.conv1(t)\n",
    "        t = F.relu(t)\n",
    "        t = F.max_pool2d(t, kernel_size = 2, stride = 2)\n",
    "        \n",
    "        # (3) hidden conv layer\n",
    "        t = self.conv2(t)\n",
    "        t = F.relu(t)\n",
    "        t = F.max_pool2d(t, kernel_size = 2, stride = 2)\n",
    "        \n",
    "        # (4) hidden linear layer (tensor is flattened)\n",
    "        t = t.reshape(-1, 12 * 4 * 4)\n",
    "        t = self.fc1(t)\n",
    "        t = F.relu(t)\n",
    "        \n",
    "        # (5) hidden linear layer\n",
    "        t = self.fc2(t)\n",
    "        t = F.relu(t)\n",
    "        \n",
    "        # (6) output layer\n",
    "        t = self.out(t)\n",
    "        #t = F.softmax(t, dim = 1) #returns a probability for each of the prediction classes\n",
    "                                    #but we don't need it, as we do a cross-entropy loss which does that implicitly\n",
    "        return t\n",
    "    \n",
    "    #Overriding functions:\n",
    "    #def __repr__(self):\n",
    "     #   return \"Custom String that is returned upon calling a object of this class.\""
   ]
  },
  {
   "cell_type": "code",
   "execution_count": 178,
   "metadata": {},
   "outputs": [
    {
     "data": {
      "text/plain": [
       "Conv2d(6, 12, kernel_size=(5, 5), stride=(1, 1))"
      ]
     },
     "execution_count": 178,
     "metadata": {},
     "output_type": "execute_result"
    }
   ],
   "source": [
    "# get an instance of your network\n",
    "network = Network()\n",
    "network\n",
    "#dot operation\n",
    "network.conv1\n",
    "network.conv2"
   ]
  },
  {
   "cell_type": "code",
   "execution_count": 179,
   "metadata": {},
   "outputs": [
    {
     "data": {
      "text/plain": [
       "Parameter containing:\n",
       "tensor([[[[-1.9318e-01, -1.7595e-01,  9.6386e-02, -1.3023e-01,  8.0897e-02],\n",
       "          [ 1.9020e-01,  8.9302e-02,  9.2500e-02, -1.2434e-01,  9.2441e-02],\n",
       "          [-1.4880e-01, -9.0718e-02, -1.0102e-02,  2.6926e-02,  6.5431e-02],\n",
       "          [ 1.9326e-01, -5.1948e-02,  1.6542e-03,  1.5422e-01,  1.2364e-01],\n",
       "          [-1.8403e-01,  1.9582e-01,  4.5460e-02, -2.7600e-02,  1.2842e-01]]],\n",
       "\n",
       "\n",
       "        [[[-9.6271e-02, -1.7077e-01, -1.6527e-01, -1.1869e-01,  4.2556e-02],\n",
       "          [ 1.8114e-01,  1.8478e-01,  1.7345e-01, -1.8819e-01,  1.8300e-01],\n",
       "          [-1.6325e-01, -1.4068e-01, -1.9204e-01, -1.2472e-01,  1.0422e-01],\n",
       "          [ 4.4858e-02, -1.4175e-01, -8.5904e-02,  1.0113e-01,  1.5243e-01],\n",
       "          [ 1.1321e-01, -4.3560e-02, -3.8096e-03,  1.0364e-01, -1.4136e-01]]],\n",
       "\n",
       "\n",
       "        [[[ 1.2315e-01,  9.0407e-02, -1.6540e-01, -7.6472e-02, -1.1830e-01],\n",
       "          [ 9.3949e-02,  2.1589e-02, -8.2750e-02,  1.1971e-01,  2.7289e-02],\n",
       "          [-6.6503e-02, -4.8604e-03,  1.4141e-01,  1.4356e-02, -1.8881e-01],\n",
       "          [-1.4574e-01, -1.1350e-01, -1.8913e-01,  6.4465e-02, -1.4122e-01],\n",
       "          [-5.4257e-02,  1.8602e-01,  1.9453e-01, -3.7591e-02, -1.4992e-01]]],\n",
       "\n",
       "\n",
       "        [[[-1.7647e-01, -1.9355e-01,  6.9926e-02, -1.4024e-01, -1.3123e-01],\n",
       "          [ 6.2094e-02,  1.7187e-01, -9.8770e-03, -2.4479e-03, -1.2521e-01],\n",
       "          [-6.6723e-02,  1.6046e-01, -1.1880e-01, -4.4395e-02, -1.5878e-01],\n",
       "          [ 1.2736e-02, -5.1952e-02, -2.7493e-02,  8.7811e-02, -5.2058e-02],\n",
       "          [ 1.2002e-01,  1.0540e-01,  3.8473e-02, -1.9245e-01, -9.6055e-02]]],\n",
       "\n",
       "\n",
       "        [[[-4.7840e-02,  1.3981e-01, -1.9223e-01,  1.7993e-01, -1.1446e-01],\n",
       "          [-6.7498e-02,  2.4716e-02,  7.0351e-03, -5.9182e-02,  1.9948e-01],\n",
       "          [ 4.3940e-02, -7.4978e-02, -5.2130e-02, -1.0280e-01, -1.0533e-01],\n",
       "          [ 1.4642e-01,  9.7463e-02, -1.2617e-01,  1.6448e-01,  7.0665e-02],\n",
       "          [-1.4056e-01,  9.7765e-02,  6.9426e-02, -1.3485e-01, -8.7102e-02]]],\n",
       "\n",
       "\n",
       "        [[[-7.6247e-02,  1.8470e-04, -1.0700e-01, -4.7311e-03,  4.4236e-02],\n",
       "          [-7.6824e-02, -1.2911e-02, -1.7962e-01, -5.1763e-02,  1.2974e-01],\n",
       "          [ 1.6754e-01, -1.8506e-01, -9.7812e-03,  1.7287e-01,  5.6368e-02],\n",
       "          [ 1.2639e-01,  1.7609e-01, -9.1100e-03,  7.5807e-02,  8.7096e-02],\n",
       "          [ 4.2600e-02,  9.3641e-02,  8.1754e-02,  7.9399e-02,  1.9563e-01]]]],\n",
       "       requires_grad=True)"
      ]
     },
     "execution_count": 179,
     "metadata": {},
     "output_type": "execute_result"
    }
   ],
   "source": [
    "#access the weights of a layer, those are actually updated during learning, so that the loss function is minimized\n",
    "#this is done through the Parameter class: extends Tensor class\n",
    "# weights basically convert the number of in_channels to the respective number of out_channels\n",
    "network.conv1.weight"
   ]
  },
  {
   "cell_type": "code",
   "execution_count": 180,
   "metadata": {},
   "outputs": [
    {
     "data": {
      "text/plain": [
       "torch.Size([12, 6, 5, 5])"
      ]
     },
     "execution_count": 180,
     "metadata": {},
     "output_type": "execute_result"
    }
   ],
   "source": [
    "# The shape of the weights is directly related to the hyperparameters that we specified\n",
    "# This shape / Tensor represents our whole filter / layer\n",
    "# Rank 4 tensors: number of filters, depth of filters, height and width of kernel / filter\n",
    "network.conv2.weight.shape"
   ]
  },
  {
   "cell_type": "code",
   "execution_count": 181,
   "metadata": {},
   "outputs": [
    {
     "data": {
      "text/plain": [
       "torch.Size([6, 5, 5])"
      ]
     },
     "execution_count": 181,
     "metadata": {},
     "output_type": "execute_result"
    }
   ],
   "source": [
    "# This gives us a single filter:\n",
    "network.conv2.weight[0].shape"
   ]
  },
  {
   "cell_type": "code",
   "execution_count": 182,
   "metadata": {},
   "outputs": [
    {
     "data": {
      "text/plain": [
       "torch.Size([120, 192])"
      ]
     },
     "execution_count": 182,
     "metadata": {},
     "output_type": "execute_result"
    }
   ],
   "source": [
    "# Linear layers have rank 2 tensors\n",
    "# Height = output features, width = input features\n",
    "network.fc1.weight.shape"
   ]
  },
  {
   "cell_type": "code",
   "execution_count": 185,
   "metadata": {},
   "outputs": [
    {
     "name": "stdout",
     "output_type": "stream",
     "text": [
      "conv1.weight \t\t torch.Size([6, 1, 5, 5])\n",
      "conv1.bias \t\t torch.Size([6])\n",
      "conv2.weight \t\t torch.Size([12, 6, 5, 5])\n",
      "conv2.bias \t\t torch.Size([12])\n",
      "fc1.weight \t\t torch.Size([120, 192])\n",
      "fc1.bias \t\t torch.Size([120])\n",
      "fc2.weight \t\t torch.Size([60, 120])\n",
      "fc2.bias \t\t torch.Size([60])\n",
      "out.weight \t\t torch.Size([10, 60])\n",
      "out.bias \t\t torch.Size([10])\n"
     ]
    }
   ],
   "source": [
    "#Show all parameters of the network:\n",
    "for name, param in network.named_parameters():\n",
    "    print(name, \"\\t\\t\", param.shape)"
   ]
  },
  {
   "cell_type": "markdown",
   "metadata": {},
   "source": [
    "### Load Fashion MNIST Dataset"
   ]
  },
  {
   "cell_type": "code",
   "execution_count": 228,
   "metadata": {},
   "outputs": [],
   "source": [
    "import torchvision\n",
    "import torchvision.transforms as transforms"
   ]
  },
  {
   "cell_type": "markdown",
   "metadata": {},
   "source": [
    "#### More explicit explanation in the seperat Loading Fashion MNIST Notebook"
   ]
  },
  {
   "cell_type": "code",
   "execution_count": 220,
   "metadata": {},
   "outputs": [],
   "source": [
    "train_set = torchvision.datasets.FashionMNIST(\n",
    "    root = \"./data/FashionMNIST\"\n",
    "    , train = True\n",
    "    , download = True\n",
    "    , transform = transforms.Compose([\n",
    "        transforms.ToTensor()\n",
    "    ])\n",
    ")"
   ]
  },
  {
   "cell_type": "code",
   "execution_count": 229,
   "metadata": {},
   "outputs": [],
   "source": [
    "class Network(nn.Module):\n",
    "    def __init__(self):\n",
    "        super(Network, self).__init__()\n",
    "        self.conv1 = nn.Conv2d(in_channels = 1, out_channels = 6, kernel_size = 5)\n",
    "        self.conv2 = nn.Conv2d(in_channels = 6, out_channels = 12, kernel_size = 5)\n",
    "        \n",
    "        #table and formula to calculate the changes of img sizes:\n",
    "        # https://deeplizard.com/learn/video/cin4YcGBh3Q\n",
    "        self.fc1 = nn.Linear(in_features = 12*4*4, out_features = 120) #needed, because the img has the shape\n",
    "                                                                        #(1, 12, 4, 4) when it arrives at the fc\n",
    "                                                                        #because it is flattened, the input is 12*4*4\n",
    "        self.fc2 = nn.Linear(in_features = 120, out_features = 60)\n",
    "        self.out = nn.Linear(in_features = 60, out_features = 10)\n",
    "        \n",
    "    def forward(self, t):\n",
    "        t = F.relu(self.conv1(t))\n",
    "        t = F.max_pool2d(t, kernel_size = 2, stride = 2)\n",
    "        \n",
    "        t = F.relu(self.conv2(t))\n",
    "        t = F.max_pool2d(t, kernel_size = 2, stride = 2)\n",
    "        \n",
    "        t = F.relu(self.fc1(t.reshape(-1, 12 * 4 * 4)))\n",
    "        t = F.relu(self.fc2(t))\n",
    "        \n",
    "        t = self.out(t)\n",
    "        #normally softmax, but is implicitly included in the cross entropy \n",
    "        return t"
   ]
  },
  {
   "cell_type": "code",
   "execution_count": 230,
   "metadata": {},
   "outputs": [
    {
     "data": {
      "text/plain": [
       "<torch.autograd.grad_mode.set_grad_enabled at 0x7ff174da8410>"
      ]
     },
     "execution_count": 230,
     "metadata": {},
     "output_type": "execute_result"
    }
   ],
   "source": [
    "#turning computational graph off, as we do not need it yet\n",
    "torch.set_grad_enabled(False)"
   ]
  },
  {
   "cell_type": "code",
   "execution_count": 231,
   "metadata": {},
   "outputs": [],
   "source": [
    "network = Network()"
   ]
  },
  {
   "cell_type": "code",
   "execution_count": 194,
   "metadata": {},
   "outputs": [],
   "source": [
    "sample = next(iter(train_set))"
   ]
  },
  {
   "cell_type": "code",
   "execution_count": 200,
   "metadata": {},
   "outputs": [
    {
     "data": {
      "text/plain": [
       "torch.Size([1, 28, 28])"
      ]
     },
     "execution_count": 200,
     "metadata": {},
     "output_type": "execute_result"
    }
   ],
   "source": [
    "image, label = sample\n",
    "image.shape #1 since gray, 28x28 for size"
   ]
  },
  {
   "cell_type": "code",
   "execution_count": 227,
   "metadata": {},
   "outputs": [
    {
     "data": {
      "text/plain": [
       "torch.Size([1, 1, 28, 28])"
      ]
     },
     "execution_count": 227,
     "metadata": {},
     "output_type": "execute_result"
    }
   ],
   "source": [
    "#PyTorch only takes batches: in the format batch_size, in_channels, height, width\n",
    "# if size one, we need to unsqueeze the tensor\n",
    "image.unsqueeze(0).shape #gives us batch-size one"
   ]
  },
  {
   "cell_type": "markdown",
   "metadata": {},
   "source": [
    "#### Processing a single image through our network"
   ]
  },
  {
   "cell_type": "code",
   "execution_count": 208,
   "metadata": {},
   "outputs": [],
   "source": [
    "pred = network(image.unsqueeze(0))"
   ]
  },
  {
   "cell_type": "code",
   "execution_count": 210,
   "metadata": {},
   "outputs": [
    {
     "data": {
      "text/plain": [
       "torch.Size([1, 10])"
      ]
     },
     "execution_count": 210,
     "metadata": {},
     "output_type": "execute_result"
    }
   ],
   "source": [
    "pred.shape #shape means, one image in our batch, 10 prediction labels for it"
   ]
  },
  {
   "cell_type": "code",
   "execution_count": 211,
   "metadata": {},
   "outputs": [
    {
     "data": {
      "text/plain": [
       "tensor([[-0.0239, -0.0650, -0.1267,  0.1285,  0.0236, -0.0431,  0.0312, -0.1431,\n",
       "         -0.0683, -0.0988]])"
      ]
     },
     "execution_count": 211,
     "metadata": {},
     "output_type": "execute_result"
    }
   ],
   "source": [
    "pred"
   ]
  },
  {
   "cell_type": "code",
   "execution_count": 213,
   "metadata": {},
   "outputs": [
    {
     "data": {
      "text/plain": [
       "9"
      ]
     },
     "execution_count": 213,
     "metadata": {},
     "output_type": "execute_result"
    }
   ],
   "source": [
    "label #what is the actual label for our img"
   ]
  },
  {
   "cell_type": "code",
   "execution_count": 219,
   "metadata": {},
   "outputs": [
    {
     "data": {
      "text/plain": [
       "tensor([3])"
      ]
     },
     "execution_count": 219,
     "metadata": {},
     "output_type": "execute_result"
    }
   ],
   "source": [
    "pred.argmax(dim=1) #of course that is wrong, because it is totally random and guessing (not trained yet)"
   ]
  },
  {
   "cell_type": "code",
   "execution_count": 223,
   "metadata": {},
   "outputs": [
    {
     "data": {
      "text/plain": [
       "tensor([[0.1012, 0.0971, 0.0913, 0.1178, 0.1061, 0.0992, 0.1069, 0.0898, 0.0968,\n",
       "         0.0939]])"
      ]
     },
     "execution_count": 223,
     "metadata": {},
     "output_type": "execute_result"
    }
   ],
   "source": [
    "#if we want those values to be probabilities, we need to use softmax\n",
    "pred_prob = F.softmax(pred, dim = 1)\n",
    "pred_prob"
   ]
  },
  {
   "cell_type": "code",
   "execution_count": 224,
   "metadata": {},
   "outputs": [
    {
     "data": {
      "text/plain": [
       "tensor(3)"
      ]
     },
     "execution_count": 224,
     "metadata": {},
     "output_type": "execute_result"
    }
   ],
   "source": [
    "pred_prob.argmax()"
   ]
  },
  {
   "cell_type": "code",
   "execution_count": 225,
   "metadata": {},
   "outputs": [
    {
     "data": {
      "text/plain": [
       "tensor(1.)"
      ]
     },
     "execution_count": 225,
     "metadata": {},
     "output_type": "execute_result"
    }
   ],
   "source": [
    "pred_prob.sum()"
   ]
  },
  {
   "cell_type": "markdown",
   "metadata": {},
   "source": [
    "#### Processing a whole batch of images through our network"
   ]
  },
  {
   "cell_type": "code",
   "execution_count": 232,
   "metadata": {},
   "outputs": [],
   "source": [
    "data_loader = torch.utils.data.DataLoader(\n",
    "    train_set\n",
    "    , batch_size = 10\n",
    ")"
   ]
  },
  {
   "cell_type": "code",
   "execution_count": 234,
   "metadata": {},
   "outputs": [],
   "source": [
    "batch = next(iter(data_loader)) #always gives us the amount of images according to batch_size"
   ]
  },
  {
   "cell_type": "code",
   "execution_count": 235,
   "metadata": {},
   "outputs": [],
   "source": [
    "images, labels = batch"
   ]
  },
  {
   "cell_type": "code",
   "execution_count": 237,
   "metadata": {},
   "outputs": [
    {
     "data": {
      "text/plain": [
       "torch.Size([10, 1, 28, 28])"
      ]
     },
     "execution_count": 237,
     "metadata": {},
     "output_type": "execute_result"
    }
   ],
   "source": [
    "images.shape #They have the proper shape to read into our network "
   ]
  },
  {
   "cell_type": "code",
   "execution_count": 238,
   "metadata": {},
   "outputs": [
    {
     "data": {
      "text/plain": [
       "torch.Size([10])"
      ]
     },
     "execution_count": 238,
     "metadata": {},
     "output_type": "execute_result"
    }
   ],
   "source": [
    "labels.shape #10 images in our batch, one label per image"
   ]
  },
  {
   "cell_type": "code",
   "execution_count": 239,
   "metadata": {},
   "outputs": [],
   "source": [
    "network = Network()"
   ]
  },
  {
   "cell_type": "code",
   "execution_count": 240,
   "metadata": {},
   "outputs": [],
   "source": [
    "preds = network(images)"
   ]
  },
  {
   "cell_type": "code",
   "execution_count": 241,
   "metadata": {},
   "outputs": [
    {
     "data": {
      "text/plain": [
       "torch.Size([10, 10])"
      ]
     },
     "execution_count": 241,
     "metadata": {},
     "output_type": "execute_result"
    }
   ],
   "source": [
    "preds.shape #10 images, each of those elemnts has 10 prediction classes"
   ]
  },
  {
   "cell_type": "code",
   "execution_count": 242,
   "metadata": {},
   "outputs": [
    {
     "data": {
      "text/plain": [
       "tensor([[ 0.1371,  0.0402,  0.0045, -0.1118, -0.1010, -0.0127, -0.0761,  0.0947,\n",
       "          0.0692,  0.1365],\n",
       "        [ 0.1277,  0.0440,  0.0172, -0.1112, -0.1006, -0.0030, -0.0801,  0.0978,\n",
       "          0.0779,  0.1260],\n",
       "        [ 0.1426,  0.0445,  0.0234, -0.1014, -0.1076, -0.0042, -0.0766,  0.1243,\n",
       "          0.0960,  0.1190],\n",
       "        [ 0.1384,  0.0446,  0.0182, -0.1100, -0.1017, -0.0004, -0.0797,  0.1154,\n",
       "          0.0874,  0.1240],\n",
       "        [ 0.1354,  0.0417,  0.0042, -0.1185, -0.0995, -0.0019, -0.0768,  0.1008,\n",
       "          0.0737,  0.1299],\n",
       "        [ 0.1336,  0.0538,  0.0179, -0.1117, -0.1041, -0.0045, -0.0849,  0.0957,\n",
       "          0.0789,  0.1290],\n",
       "        [ 0.1413,  0.0410,  0.0173, -0.1188, -0.1097, -0.0007, -0.0817,  0.1020,\n",
       "          0.0857,  0.1283],\n",
       "        [ 0.1316,  0.0535,  0.0165, -0.1140, -0.0991, -0.0076, -0.0840,  0.0920,\n",
       "          0.0703,  0.1324],\n",
       "        [ 0.1352,  0.0438,  0.0156, -0.1059, -0.0995, -0.0062, -0.0780,  0.1122,\n",
       "          0.0891,  0.1213],\n",
       "        [ 0.1276,  0.0481,  0.0244, -0.0894, -0.1016, -0.0151, -0.0786,  0.1079,\n",
       "          0.0815,  0.1241]])"
      ]
     },
     "execution_count": 242,
     "metadata": {},
     "output_type": "execute_result"
    }
   ],
   "source": [
    "preds"
   ]
  },
  {
   "cell_type": "code",
   "execution_count": 250,
   "metadata": {},
   "outputs": [
    {
     "data": {
      "text/plain": [
       "tensor([0, 0, 0, 0, 0, 0, 0, 9, 0, 0])"
      ]
     },
     "execution_count": 250,
     "metadata": {},
     "output_type": "execute_result"
    }
   ],
   "source": [
    "preds.argmax(dim = 1) #highest prediction index for every \"row\" bzw. for every image"
   ]
  },
  {
   "cell_type": "code",
   "execution_count": 253,
   "metadata": {},
   "outputs": [
    {
     "data": {
      "text/plain": [
       "tensor([9, 0, 0, 3, 0, 2, 7, 2, 5, 5])"
      ]
     },
     "execution_count": 253,
     "metadata": {},
     "output_type": "execute_result"
    }
   ],
   "source": [
    "labels #correct labels of those pictures"
   ]
  },
  {
   "cell_type": "code",
   "execution_count": 254,
   "metadata": {},
   "outputs": [
    {
     "data": {
      "text/plain": [
       "tensor([False,  True,  True, False,  True, False, False, False, False, False])"
      ]
     },
     "execution_count": 254,
     "metadata": {},
     "output_type": "execute_result"
    }
   ],
   "source": [
    "preds.argmax(dim = 1).eq(labels) #comparing prediction to correct label"
   ]
  },
  {
   "cell_type": "code",
   "execution_count": 255,
   "metadata": {},
   "outputs": [
    {
     "data": {
      "text/plain": [
       "tensor(3)"
      ]
     },
     "execution_count": 255,
     "metadata": {},
     "output_type": "execute_result"
    }
   ],
   "source": [
    "preds.argmax(dim = 1).eq(labels).sum() #How many?"
   ]
  },
  {
   "cell_type": "code",
   "execution_count": 260,
   "metadata": {},
   "outputs": [],
   "source": [
    "#Writing a function that does this for us:\n",
    "def get_num_correct(predictions, labels):\n",
    "    return 'Correctly classified: {}'.format(predictions.argmax(dim = 1).eq(labels).sum().item())"
   ]
  },
  {
   "cell_type": "code",
   "execution_count": 261,
   "metadata": {},
   "outputs": [
    {
     "data": {
      "text/plain": [
       "'Correctly classified: 3'"
      ]
     },
     "execution_count": 261,
     "metadata": {},
     "output_type": "execute_result"
    }
   ],
   "source": [
    "get_num_correct(preds, labels)"
   ]
  },
  {
   "cell_type": "markdown",
   "metadata": {},
   "source": [
    "### Train the CNN"
   ]
  },
  {
   "cell_type": "code",
   "execution_count": 280,
   "metadata": {},
   "outputs": [
    {
     "data": {
      "text/plain": [
       "<torch.autograd.grad_mode.set_grad_enabled at 0x7ff1566bc990>"
      ]
     },
     "execution_count": 280,
     "metadata": {},
     "output_type": "execute_result"
    }
   ],
   "source": [
    "import torch.optim as optim \n",
    "torch.set_grad_enabled(True) #by default turned on"
   ]
  },
  {
   "cell_type": "code",
   "execution_count": 281,
   "metadata": {},
   "outputs": [],
   "source": [
    "#Write a function that gives us the amount of correct predicted labels:\n",
    "def get_num_correct(predictions, labels):\n",
    "    return 'Correctly classified: {}'.format(predictions.argmax(dim = 1).eq(labels).sum().item())"
   ]
  },
  {
   "cell_type": "code",
   "execution_count": 282,
   "metadata": {},
   "outputs": [],
   "source": [
    "#The network is defined above, we initialize a new one:\n",
    "network = Network()"
   ]
  },
  {
   "cell_type": "code",
   "execution_count": 284,
   "metadata": {},
   "outputs": [],
   "source": [
    "#Load the dataset\n",
    "train_set = torchvision.datasets.FashionMNIST(\n",
    "    root = \"./data/FashionMNIST\"\n",
    "    , train = True\n",
    "    , download = True\n",
    "    , transform = transforms.Compose([\n",
    "        transforms.ToTensor()\n",
    "    ])\n",
    ")"
   ]
  },
  {
   "cell_type": "code",
   "execution_count": 285,
   "metadata": {},
   "outputs": [],
   "source": [
    "#Get batches from loaded train_set\n",
    "train_loader = torch.utils.data.DataLoader(\n",
    "    train_set\n",
    "    , batch_size = 100\n",
    ")\n",
    "batch = next(iter(train_loader))\n",
    "images, labels = batch"
   ]
  },
  {
   "cell_type": "markdown",
   "metadata": {},
   "source": [
    "#### Calculating the Loss"
   ]
  },
  {
   "cell_type": "code",
   "execution_count": 286,
   "metadata": {},
   "outputs": [
    {
     "data": {
      "text/plain": [
       "2.322381019592285"
      ]
     },
     "execution_count": 286,
     "metadata": {},
     "output_type": "execute_result"
    }
   ],
   "source": [
    "preds = network(images)\n",
    "loss = F.cross_entropy(preds, labels) #calculating loss with cross entropy, should decrease during training\n",
    "loss.item()"
   ]
  },
  {
   "cell_type": "markdown",
   "metadata": {},
   "source": [
    "#### Calculate the Gradient"
   ]
  },
  {
   "cell_type": "code",
   "execution_count": 287,
   "metadata": {},
   "outputs": [
    {
     "name": "stdout",
     "output_type": "stream",
     "text": [
      "None\n"
     ]
    }
   ],
   "source": [
    "print(network.conv1.weight.grad) #no gradients for this layer before calculating"
   ]
  },
  {
   "cell_type": "code",
   "execution_count": 288,
   "metadata": {},
   "outputs": [],
   "source": [
    "loss.backward() #Calculating the gradients"
   ]
  },
  {
   "cell_type": "code",
   "execution_count": 289,
   "metadata": {},
   "outputs": [
    {
     "data": {
      "text/plain": [
       "torch.Size([6, 1, 5, 5])"
      ]
     },
     "execution_count": 289,
     "metadata": {},
     "output_type": "execute_result"
    }
   ],
   "source": [
    "network.conv1.weight.grad.shape #gradients have been updated for every weight\n",
    "\n",
    "#this gradient tensor has the same shape as the weight tensor"
   ]
  },
  {
   "cell_type": "markdown",
   "metadata": {},
   "source": [
    "#### Update the network weights"
   ]
  },
  {
   "cell_type": "code",
   "execution_count": 293,
   "metadata": {},
   "outputs": [],
   "source": [
    "#Specifying the optimizer: we use Adam and give it the trainable parameters of our network\n",
    "optimizer = optim.Adam(network.parameters(), lr = 0.01) #SGD works as well, lr = hyperparameter"
   ]
  },
  {
   "cell_type": "code",
   "execution_count": 290,
   "metadata": {},
   "outputs": [
    {
     "data": {
      "text/plain": [
       "2.322381019592285"
      ]
     },
     "execution_count": 290,
     "metadata": {},
     "output_type": "execute_result"
    }
   ],
   "source": [
    "loss.item()"
   ]
  },
  {
   "cell_type": "code",
   "execution_count": 291,
   "metadata": {},
   "outputs": [
    {
     "data": {
      "text/plain": [
       "'Correctly classified: 5'"
      ]
     },
     "execution_count": 291,
     "metadata": {},
     "output_type": "execute_result"
    }
   ],
   "source": [
    "get_num_correct(preds, labels) #makes sense, since it is only guessing"
   ]
  },
  {
   "cell_type": "code",
   "execution_count": 294,
   "metadata": {},
   "outputs": [],
   "source": [
    "#Update the weights:\n",
    "optimizer.step()"
   ]
  },
  {
   "cell_type": "code",
   "execution_count": 296,
   "metadata": {},
   "outputs": [],
   "source": [
    "#Again, calculating the loss:\n",
    "preds = network(images)\n",
    "loss = F.cross_entropy(preds, labels)"
   ]
  },
  {
   "cell_type": "code",
   "execution_count": 297,
   "metadata": {},
   "outputs": [
    {
     "data": {
      "text/plain": [
       "2.2961061000823975"
      ]
     },
     "execution_count": 297,
     "metadata": {},
     "output_type": "execute_result"
    }
   ],
   "source": [
    "loss.item() #should be lower now"
   ]
  },
  {
   "cell_type": "code",
   "execution_count": 298,
   "metadata": {},
   "outputs": [
    {
     "data": {
      "text/plain": [
       "'Correctly classified: 10'"
      ]
     },
     "execution_count": 298,
     "metadata": {},
     "output_type": "execute_result"
    }
   ],
   "source": [
    "get_num_correct(preds, labels) #there we go!"
   ]
  },
  {
   "cell_type": "markdown",
   "metadata": {},
   "source": [
    "### All this summarized: Training with one batch:"
   ]
  },
  {
   "cell_type": "code",
   "execution_count": 301,
   "metadata": {},
   "outputs": [
    {
     "name": "stdout",
     "output_type": "stream",
     "text": [
      "loss1:  2.2991673946380615\n",
      "loss2:  2.278111457824707\n"
     ]
    }
   ],
   "source": [
    "#This is a good way to test the network first, but normally everything is done in a training loop\n",
    "network = Network()\n",
    "\n",
    "train_loader = torch.utils.data.DataLoader(\n",
    "    train_set\n",
    "    , batch_size = 100\n",
    ")\n",
    "optimizer = optim.Adam(network.parameters(), lr = 0.01) #or SDG, ... lr must be tested and tuned!!!\n",
    "\n",
    "batch = next(iter(train_loader)) #get batch\n",
    "images, labels = batch\n",
    "\n",
    "preds = network(images) #pass batch\n",
    "loss = F.cross_entropy(preds, labels) #calculate loss\n",
    "\n",
    "loss.backward() #calculate gradients backward = short for backpropagation\n",
    "optimizer.step() #update weights\n",
    "\n",
    "#--------------------------------------------------------\n",
    "print(\"loss1: \", loss.item())\n",
    "preds = network(images)\n",
    "loss = F.cross_entropy(preds, labels)\n",
    "print(\"loss2: \", loss.item()) #loss should have decreased with second iteration!"
   ]
  },
  {
   "cell_type": "markdown",
   "metadata": {},
   "source": [
    "#### Training all batches but only one epoch:"
   ]
  },
  {
   "cell_type": "code",
   "execution_count": 304,
   "metadata": {},
   "outputs": [],
   "source": [
    "def get_num_correct(predictions, labels):\n",
    "    return predictions.argmax(dim = 1).eq(labels).sum().item()"
   ]
  },
  {
   "cell_type": "code",
   "execution_count": 307,
   "metadata": {},
   "outputs": [
    {
     "name": "stdout",
     "output_type": "stream",
     "text": [
      "epoch:  0 total correct:  46426 loss:  354.02324908971786\n"
     ]
    }
   ],
   "source": [
    "network = Network()\n",
    "\n",
    "#changing the batch-size results in changing the number of times the weights are updated\n",
    "# bigger batches, means less iterations, less weight updating\n",
    "train_loader = torch.utils.data.DataLoader(\n",
    "    train_set\n",
    "    , batch_size = 100\n",
    ")\n",
    "optimizer = optim.Adam(network.parameters(), lr = 0.01)\n",
    "\n",
    "total_loss = 0\n",
    "total_correct = 0\n",
    "\n",
    "for batch in train_loader: #600 iterations\n",
    "    images, labels = batch\n",
    "\n",
    "    preds = network(images) #pass batch\n",
    "    loss = F.cross_entropy(preds, labels) #calculate loss\n",
    "    \n",
    "    optimizer.zero_grad() #must be done, because pytorch accumulates all gradients, this\n",
    "                            # puts them to zero again\n",
    "    loss.backward() #calculate gradients backward\n",
    "    optimizer.step() #update weights\n",
    "    \n",
    "    total_loss += loss.item()\n",
    "    total_correct += get_num_correct(preds, labels)\n",
    "    \n",
    "print(\"epoch: \", 0, \"total correct: \", total_correct, \"loss: \", total_loss)"
   ]
  },
  {
   "cell_type": "code",
   "execution_count": 308,
   "metadata": {},
   "outputs": [
    {
     "data": {
      "text/plain": [
       "0.7737666666666667"
      ]
     },
     "execution_count": 308,
     "metadata": {},
     "output_type": "execute_result"
    }
   ],
   "source": [
    "#Accuracy:\n",
    "total_correct / len(train_set)"
   ]
  },
  {
   "cell_type": "code",
   "execution_count": null,
   "metadata": {},
   "outputs": [],
   "source": []
  },
  {
   "cell_type": "markdown",
   "metadata": {},
   "source": [
    "### The training loop"
   ]
  },
  {
   "cell_type": "code",
   "execution_count": 309,
   "metadata": {},
   "outputs": [
    {
     "name": "stdout",
     "output_type": "stream",
     "text": [
      "epoch:  0 total correct:  47616 loss:  327.9524929225445\n",
      "epoch:  1 total correct:  51824 loss:  222.88604319095612\n",
      "epoch:  2 total correct:  52574 loss:  203.97988931834698\n",
      "epoch:  3 total correct:  52929 loss:  194.08124616742134\n",
      "epoch:  4 total correct:  53089 loss:  188.72502356767654\n"
     ]
    }
   ],
   "source": [
    "network = Network()\n",
    "\n",
    "train_loader = torch.utils.data.DataLoader(\n",
    "    train_set\n",
    "    , batch_size = 100\n",
    ")\n",
    "optimizer = optim.Adam(network.parameters(), lr = 0.01)\n",
    "for epoch in range(5):\n",
    "    \n",
    "    total_loss = 0\n",
    "    total_correct = 0\n",
    "\n",
    "    for batch in train_loader:\n",
    "        images, labels = batch\n",
    "\n",
    "        preds = network(images)\n",
    "        loss = F.cross_entropy(preds, labels)\n",
    "    \n",
    "        optimizer.zero_grad() #gradients must be put to zero, would accumulate otherwise\n",
    "        loss.backward()\n",
    "        optimizer.step()\n",
    "    \n",
    "        total_loss += loss.item()\n",
    "        total_correct += get_num_correct(preds, labels)\n",
    "    \n",
    "    print(\"epoch: \", epoch, \"total correct: \", total_correct, \"loss: \", total_loss)"
   ]
  },
  {
   "cell_type": "code",
   "execution_count": 312,
   "metadata": {},
   "outputs": [
    {
     "data": {
      "text/plain": [
       "88.48166666666667"
      ]
     },
     "execution_count": 312,
     "metadata": {},
     "output_type": "execute_result"
    }
   ],
   "source": [
    "#Accuracy:\n",
    "total_correct / len(train_set)*100"
   ]
  },
  {
   "cell_type": "markdown",
   "metadata": {},
   "source": [
    "##### The network improvement often hits a plateau, after it made big steps in the beginning. This means, hyperparameter tuning or other tuning should be done. What if the model sucks overall? This might be due to underfitting."
   ]
  },
  {
   "cell_type": "markdown",
   "metadata": {},
   "source": [
    "### Confusion Matrix"
   ]
  },
  {
   "cell_type": "code",
   "execution_count": 314,
   "metadata": {},
   "outputs": [
    {
     "data": {
      "text/plain": [
       "60000"
      ]
     },
     "execution_count": 314,
     "metadata": {},
     "output_type": "execute_result"
    }
   ],
   "source": [
    "#All we need: A tensor of predictions and the corresponding labels\n",
    "len(train_set)"
   ]
  },
  {
   "cell_type": "code",
   "execution_count": 315,
   "metadata": {},
   "outputs": [
    {
     "data": {
      "text/plain": [
       "60000"
      ]
     },
     "execution_count": 315,
     "metadata": {},
     "output_type": "execute_result"
    }
   ],
   "source": [
    "len(train_set.targets)"
   ]
  },
  {
   "cell_type": "code",
   "execution_count": 321,
   "metadata": {},
   "outputs": [],
   "source": [
    "#A function that gives us all predictions within one tensor:\n",
    "def get_all_preds(model, loader):\n",
    "    all_preds = torch.tensor([])\n",
    "    for batch in loader:\n",
    "        images, labels = batch\n",
    "        \n",
    "        preds = model(images) #pass the image to the model\n",
    "        all_preds = torch.cat(\n",
    "            (all_preds, preds)\n",
    "        , dim = 0\n",
    "        )\n",
    "    return all_preds"
   ]
  },
  {
   "cell_type": "code",
   "execution_count": 324,
   "metadata": {},
   "outputs": [],
   "source": [
    "#we should turn the gradient tracking/graph off, since we are not training the model,\n",
    "# we are inferring / predicting\n",
    "#This is faster and uses less memory (because of leaving away the graph)\n",
    "with torch.no_grad(): #this is the locally way of turning it off, not globally\n",
    "    pred_loader = torch.utils.data.DataLoader(train_set, batch_size = 5000)\n",
    "    train_preds = get_all_preds(network, pred_loader)"
   ]
  },
  {
   "cell_type": "code",
   "execution_count": 323,
   "metadata": {},
   "outputs": [
    {
     "data": {
      "text/plain": [
       "torch.Size([60000, 10])"
      ]
     },
     "execution_count": 323,
     "metadata": {},
     "output_type": "execute_result"
    }
   ],
   "source": [
    "#the whole training set, with the predictions for every class\n",
    "train_preds.shape"
   ]
  },
  {
   "cell_type": "code",
   "execution_count": 327,
   "metadata": {},
   "outputs": [
    {
     "name": "stdout",
     "output_type": "stream",
     "text": [
      "total correct:  53132\n",
      "accuracy%:  88.55333333333333\n"
     ]
    }
   ],
   "source": [
    "#Get the amount of correct preds:\n",
    "preds_correct = get_num_correct(train_preds, train_set.targets)\n",
    "\n",
    "print(\"total correct: \", preds_correct)\n",
    "print(\"accuracy%: \", preds_correct / len(train_set)*100)"
   ]
  },
  {
   "cell_type": "code",
   "execution_count": 329,
   "metadata": {},
   "outputs": [
    {
     "data": {
      "text/plain": [
       "tensor([9, 0, 0,  ..., 3, 0, 5])"
      ]
     },
     "execution_count": 329,
     "metadata": {},
     "output_type": "execute_result"
    }
   ],
   "source": [
    "#We have 10 predictions per img, so we need the highest prediction:\n",
    "train_preds.argmax(dim = 1)"
   ]
  },
  {
   "cell_type": "code",
   "execution_count": 330,
   "metadata": {},
   "outputs": [],
   "source": [
    "#Torch.stack function:\n",
    "stacked = torch.stack(\n",
    "    (\n",
    "    train_set.targets\n",
    "    , train_preds.argmax(dim = 1)\n",
    "    )\n",
    "    , dim = 1\n",
    ")"
   ]
  },
  {
   "cell_type": "code",
   "execution_count": 331,
   "metadata": {},
   "outputs": [
    {
     "data": {
      "text/plain": [
       "torch.Size([60000, 2])"
      ]
     },
     "execution_count": 331,
     "metadata": {},
     "output_type": "execute_result"
    }
   ],
   "source": [
    "stacked.shape #60.000 img with 2 values each"
   ]
  },
  {
   "cell_type": "code",
   "execution_count": 333,
   "metadata": {},
   "outputs": [
    {
     "data": {
      "text/plain": [
       "tensor([[9, 9],\n",
       "        [0, 0],\n",
       "        [0, 0],\n",
       "        ...,\n",
       "        [3, 3],\n",
       "        [0, 0],\n",
       "        [5, 5]])"
      ]
     },
     "execution_count": 333,
     "metadata": {},
     "output_type": "execute_result"
    }
   ],
   "source": [
    "stacked #those two values are the true label and the predicted label"
   ]
  },
  {
   "cell_type": "code",
   "execution_count": 334,
   "metadata": {},
   "outputs": [
    {
     "data": {
      "text/plain": [
       "[9, 9]"
      ]
     },
     "execution_count": 334,
     "metadata": {},
     "output_type": "execute_result"
    }
   ],
   "source": [
    "#How to access items in this list?\n",
    "stacked[0].tolist()"
   ]
  },
  {
   "cell_type": "code",
   "execution_count": 335,
   "metadata": {},
   "outputs": [],
   "source": [
    "#Initiating the confusion matrix tensor\n",
    "confm = torch.zeros(10, 10, dtype = torch.int64) #10x10 because of 10 labels"
   ]
  },
  {
   "cell_type": "code",
   "execution_count": 338,
   "metadata": {},
   "outputs": [
    {
     "data": {
      "text/plain": [
       "tensor([[11398,    10,   184,    92,    20,     0,   236,     0,    58,     2],\n",
       "        [   80, 11744,     6,   124,     6,     8,    22,     0,     6,     4],\n",
       "        [  228,     0, 10266,    84,   810,     2,   560,     0,    46,     4],\n",
       "        [  736,   218,    42, 10310,   440,     8,   182,     0,    32,    32],\n",
       "        [   52,     8,  1128,   374,  9782,     0,   636,     0,    20,     0],\n",
       "        [    2,     0,     0,     2,     0, 11344,     0,   486,     6,   160],\n",
       "        [ 3336,    20,  1004,   140,   902,     6,  6490,     0,    98,     4],\n",
       "        [    0,     0,     0,     0,     0,    36,     0, 11816,     6,   142],\n",
       "        [   70,     8,    24,    10,    16,    26,    90,    26, 11728,     2],\n",
       "        [    0,     0,     0,     0,     0,    24,     0,   582,     8, 11386]])"
      ]
     },
     "execution_count": 338,
     "metadata": {},
     "output_type": "execute_result"
    }
   ],
   "source": [
    "#Filling the confmatrix:\n",
    "for pair in stacked:\n",
    "    true, predicted = pair  #access the pair\n",
    "    confm[true, predicted] = confm[true, predicted] + 1 #increase the \"cell\" by one\n",
    "confm"
   ]
  },
  {
   "cell_type": "code",
   "execution_count": 2,
   "metadata": {},
   "outputs": [],
   "source": [
    "#Visualize it:\n",
    "import matplotlib.pyplot as plt\n",
    "import itertools\n",
    "from sklearn.metrics import confusion_matrix"
   ]
  },
  {
   "cell_type": "code",
   "execution_count": 350,
   "metadata": {},
   "outputs": [],
   "source": [
    "#A function to plot the conf matrix\n",
    "def plot_confusion_matrix(cm, classes, normalize=False, title='Confusion matrix', cmap=plt.cm.Blues):\n",
    "    if normalize:\n",
    "        cm = cm.astype('float') / cm.sum(axis=1)[:, np.newaxis]\n",
    "        print(\"Normalized confusion matrix\")\n",
    "    else:\n",
    "        print('Confusion matrix, without normalization')\n",
    "\n",
    "    print(cm)\n",
    "    plt.imshow(cm, interpolation='nearest', cmap=cmap)\n",
    "    plt.title(title)\n",
    "    plt.colorbar()\n",
    "    tick_marks = np.arange(len(classes))\n",
    "    plt.xticks(tick_marks, classes, rotation=45)\n",
    "    plt.yticks(tick_marks, classes)\n",
    "\n",
    "    fmt = '.2f' if normalize else 'd'\n",
    "    thresh = cm.max() / 2.\n",
    "    for i, j in itertools.product(range(cm.shape[0]), range(cm.shape[1])):\n",
    "        plt.text(j, i, format(cm[i, j], fmt), horizontalalignment=\"center\", color=\"white\" if cm[i, j] > thresh else \"black\")\n",
    "\n",
    "    plt.tight_layout()\n",
    "    plt.ylabel('True label')\n",
    "    plt.xlabel('Predicted label')"
   ]
  },
  {
   "cell_type": "code",
   "execution_count": 351,
   "metadata": {},
   "outputs": [
    {
     "data": {
      "text/plain": [
       "array([[5699,    5,   92,   46,   10,    0,  118,    0,   29,    1],\n",
       "       [  40, 5872,    3,   62,    3,    4,   11,    0,    3,    2],\n",
       "       [ 114,    0, 5133,   42,  405,    1,  280,    0,   23,    2],\n",
       "       [ 368,  109,   21, 5155,  220,    4,   91,    0,   16,   16],\n",
       "       [  26,    4,  564,  187, 4891,    0,  318,    0,   10,    0],\n",
       "       [   1,    0,    0,    1,    0, 5672,    0,  243,    3,   80],\n",
       "       [1668,   10,  502,   70,  451,    3, 3245,    0,   49,    2],\n",
       "       [   0,    0,    0,    0,    0,   18,    0, 5908,    3,   71],\n",
       "       [  35,    4,   12,    5,    8,   13,   45,   13, 5864,    1],\n",
       "       [   0,    0,    0,    0,    0,   12,    0,  291,    4, 5693]])"
      ]
     },
     "execution_count": 351,
     "metadata": {},
     "output_type": "execute_result"
    }
   ],
   "source": [
    "#This function does exactly the same as we did\n",
    "cm = confusion_matrix(train_set.targets, train_preds.argmax(dim=1))\n",
    "cm"
   ]
  },
  {
   "cell_type": "code",
   "execution_count": 354,
   "metadata": {},
   "outputs": [
    {
     "name": "stdout",
     "output_type": "stream",
     "text": [
      "Confusion matrix, without normalization\n",
      "[[5699    5   92   46   10    0  118    0   29    1]\n",
      " [  40 5872    3   62    3    4   11    0    3    2]\n",
      " [ 114    0 5133   42  405    1  280    0   23    2]\n",
      " [ 368  109   21 5155  220    4   91    0   16   16]\n",
      " [  26    4  564  187 4891    0  318    0   10    0]\n",
      " [   1    0    0    1    0 5672    0  243    3   80]\n",
      " [1668   10  502   70  451    3 3245    0   49    2]\n",
      " [   0    0    0    0    0   18    0 5908    3   71]\n",
      " [  35    4   12    5    8   13   45   13 5864    1]\n",
      " [   0    0    0    0    0   12    0  291    4 5693]]\n"
     ]
    },
    {
     "data": {
      "image/png": "[encoded data removed]",
      "text/plain": [
       "<Figure size 720x720 with 2 Axes>"
      ]
     },
     "metadata": {
      "needs_background": "light"
     },
     "output_type": "display_data"
    }
   ],
   "source": [
    "names = (\"T-shirt/top\", \"Trouser\", \"Pullover\", \"DressCoat\", \"Sandal\", \"Shirt\", \"Sneaker\", \"Bag\", \"Ankle boot\")\n",
    "plt.figure(figsize=(10, 10))\n",
    "plot_confusion_matrix(cm, names)"
   ]
  },
  {
   "cell_type": "code",
   "execution_count": null,
   "metadata": {
    "scrolled": true
   },
   "outputs": [],
   "source": [
    "#We can also plot a normalized conf matrix:\n",
    "plt.figure(figsize=(10, 10))\n",
    "plot_confusion_matrix(cm, names, normalize = True);"
   ]
  },
  {
   "cell_type": "code",
   "execution_count": 4,
   "metadata": {},
   "outputs": [],
   "source": []
  },
  {
   "cell_type": "code",
   "execution_count": 5,
   "metadata": {},
   "outputs": [],
   "source": []
  },
  {
   "cell_type": "code",
   "execution_count": 6,
   "metadata": {},
   "outputs": [],
   "source": []
  },
  {
   "cell_type": "code",
   "execution_count": null,
   "metadata": {},
   "outputs": [],
   "source": []
  }
 ],
 "metadata": {
  "celltoolbar": "Raw Cell Format",
  "kernelspec": {
   "display_name": "ipy_base",
   "language": "python",
   "name": "ipy_base"
  },
  "language_info": {
   "codemirror_mode": {
    "name": "ipython",
    "version": 3
   },
   "file_extension": ".py",
   "mimetype": "text/x-python",
   "name": "python",
   "nbconvert_exporter": "python",
   "pygments_lexer": "ipython3",
   "version": "3.7.7"
  }
 },
 "nbformat": 4,
 "nbformat_minor": 4
}
